{
 "cells": [
  {
   "cell_type": "code",
   "execution_count": null,
   "metadata": {
    "colab": {
     "base_uri": "https://localhost:8080/"
    },
    "id": "z_SpQwSoqjhD",
    "outputId": "46794782-267f-48ef-b901-4036b6a98b77",
    "tags": []
   },
   "outputs": [],
   "source": []
  },
  {
   "cell_type": "code",
   "execution_count": 1,
   "metadata": {
    "colab": {
     "base_uri": "https://localhost:8080/"
    },
    "id": "I551-RQOqqIH",
    "outputId": "558d3a17-c002-4b7b-d385-6773514080d9",
    "tags": []
   },
   "outputs": [
    {
     "name": "stdout",
     "output_type": "stream",
     "text": [
      "CycleGAN.ipynb\tKadai0502.ipynb  facades_dataset.mat\n"
     ]
    }
   ],
   "source": [
    "!ls"
   ]
  },
  {
   "cell_type": "code",
   "execution_count": 1,
   "metadata": {
    "id": "zXKT5mNoq6hE",
    "tags": []
   },
   "outputs": [],
   "source": [
    "import torch\n",
    "from torchvision import datasets,transforms"
   ]
  },
  {
   "cell_type": "code",
   "execution_count": 2,
   "metadata": {
    "colab": {
     "base_uri": "https://localhost:8080/"
    },
    "id": "IErhRB3ZrkPp",
    "outputId": "965f5ce4-7325-4982-d827-7ecfac6abc1b",
    "tags": []
   },
   "outputs": [
    {
     "name": "stdout",
     "output_type": "stream",
     "text": [
      "Downloading http://yann.lecun.com/exdb/mnist/train-images-idx3-ubyte.gz\n",
      "Failed to download (trying next):\n",
      "HTTP Error 403: Forbidden\n",
      "\n",
      "Downloading https://ossci-datasets.s3.amazonaws.com/mnist/train-images-idx3-ubyte.gz\n",
      "Downloading https://ossci-datasets.s3.amazonaws.com/mnist/train-images-idx3-ubyte.gz to ./data/MNIST/raw/train-images-idx3-ubyte.gz\n"
     ]
    },
    {
     "name": "stderr",
     "output_type": "stream",
     "text": [
      "100%|██████████| 9912422/9912422 [00:02<00:00, 3783384.21it/s]\n"
     ]
    },
    {
     "name": "stdout",
     "output_type": "stream",
     "text": [
      "Extracting ./data/MNIST/raw/train-images-idx3-ubyte.gz to ./data/MNIST/raw\n",
      "\n",
      "Downloading http://yann.lecun.com/exdb/mnist/train-labels-idx1-ubyte.gz\n",
      "Failed to download (trying next):\n",
      "HTTP Error 403: Forbidden\n",
      "\n",
      "Downloading https://ossci-datasets.s3.amazonaws.com/mnist/train-labels-idx1-ubyte.gz\n",
      "Downloading https://ossci-datasets.s3.amazonaws.com/mnist/train-labels-idx1-ubyte.gz to ./data/MNIST/raw/train-labels-idx1-ubyte.gz\n"
     ]
    },
    {
     "name": "stderr",
     "output_type": "stream",
     "text": [
      "100%|██████████| 28881/28881 [00:00<00:00, 177889.59it/s]\n"
     ]
    },
    {
     "name": "stdout",
     "output_type": "stream",
     "text": [
      "Extracting ./data/MNIST/raw/train-labels-idx1-ubyte.gz to ./data/MNIST/raw\n",
      "\n",
      "Downloading http://yann.lecun.com/exdb/mnist/t10k-images-idx3-ubyte.gz\n",
      "Failed to download (trying next):\n",
      "HTTP Error 403: Forbidden\n",
      "\n",
      "Downloading https://ossci-datasets.s3.amazonaws.com/mnist/t10k-images-idx3-ubyte.gz\n",
      "Downloading https://ossci-datasets.s3.amazonaws.com/mnist/t10k-images-idx3-ubyte.gz to ./data/MNIST/raw/t10k-images-idx3-ubyte.gz\n"
     ]
    },
    {
     "name": "stderr",
     "output_type": "stream",
     "text": [
      "100%|██████████| 1648877/1648877 [00:01<00:00, 1387518.99it/s]\n"
     ]
    },
    {
     "name": "stdout",
     "output_type": "stream",
     "text": [
      "Extracting ./data/MNIST/raw/t10k-images-idx3-ubyte.gz to ./data/MNIST/raw\n",
      "\n",
      "Downloading http://yann.lecun.com/exdb/mnist/t10k-labels-idx1-ubyte.gz\n",
      "Failed to download (trying next):\n",
      "HTTP Error 403: Forbidden\n",
      "\n",
      "Downloading https://ossci-datasets.s3.amazonaws.com/mnist/t10k-labels-idx1-ubyte.gz\n",
      "Downloading https://ossci-datasets.s3.amazonaws.com/mnist/t10k-labels-idx1-ubyte.gz to ./data/MNIST/raw/t10k-labels-idx1-ubyte.gz\n"
     ]
    },
    {
     "name": "stderr",
     "output_type": "stream",
     "text": [
      "100%|██████████| 4542/4542 [00:00<00:00, 1231449.82it/s]\n"
     ]
    },
    {
     "name": "stdout",
     "output_type": "stream",
     "text": [
      "Extracting ./data/MNIST/raw/t10k-labels-idx1-ubyte.gz to ./data/MNIST/raw\n",
      "\n",
      "inputs shape minibatch = torch.Size([100, 1, 28, 28]), labels shape = torch.Size([100])\n"
     ]
    }
   ],
   "source": [
    "transform = transforms.Compose([\n",
    "    transforms.ToTensor()\n",
    "])\n",
    "\n",
    "train_dataset = datasets.MNIST(\n",
    "    './data',\n",
    "    train = True,\n",
    "    download=True,#自動ダウンロード\n",
    "    transform = transform#テンソルへの変換\n",
    ")\n",
    "test_dataset = datasets.MNIST(\n",
    "    \"./data\",\n",
    "    train=False,\n",
    "    download=True,\n",
    "    transform=transform\n",
    ")\n",
    "# データの読み込み設定．Batch_sizeはここで確定\n",
    "train_loader = torch.utils.data.DataLoader(\n",
    "    train_dataset,\n",
    "    #1epochでのバッチサイズ\n",
    "    batch_size=100 ,\n",
    "    shuffle=True)\n",
    "test_loader = torch.utils.data.DataLoader(\n",
    "    test_dataset,\n",
    "    batch_size=100,\n",
    "    shuffle=True)\n",
    "for i,(inputs,labels) in enumerate(train_loader,0):\n",
    "  if i ==0:\n",
    "    print(f\"inputs shape minibatch = {inputs.shape}, labels shape = {labels.shape}\")"
   ]
  },
  {
   "cell_type": "code",
   "execution_count": 3,
   "metadata": {
    "id": "MgqRXEUys27z",
    "tags": []
   },
   "outputs": [],
   "source": [
    "import torch\n",
    "import torch.nn as nn\n",
    "\n",
    "class MyNet(nn.Module):\n",
    "  # InputからOutputまでのモデルの定義\n",
    "  def __init__(self,input_shape):\n",
    "    super(MyNet,self).__init__()# ルール\n",
    "    # モデルの定義\n",
    "    self.layers = nn.Sequential(\n",
    "        nn.Linear(input_shape,1024),\n",
    "        nn.ReLU(),\n",
    "        nn.Linear(1024,1024),\n",
    "        nn.ReLU(),\n",
    "        nn.Linear(1024,10),#出力層\n",
    "        nn.Softmax()\n",
    "        )\n",
    "  def forward(self,x):\n",
    "    # モデルを使ってメンバー変数内にxを入れて返す\n",
    "    return self.layers(x)"
   ]
  },
  {
   "cell_type": "code",
   "execution_count": 4,
   "metadata": {
    "colab": {
     "base_uri": "https://localhost:8080/"
    },
    "id": "nITy31OJt99Q",
    "outputId": "957d647f-ff9c-46e2-9766-84154f89d906",
    "tags": []
   },
   "outputs": [
    {
     "name": "stderr",
     "output_type": "stream",
     "text": [
      "/opt/conda/lib/python3.10/site-packages/torch/nn/modules/module.py:1518: UserWarning: Implicit dimension choice for softmax has been deprecated. Change the call to include dim=X as an argument.\n",
      "  return self._call_impl(*args, **kwargs)\n"
     ]
    },
    {
     "name": "stdout",
     "output_type": "stream",
     "text": [
      "[1,  100 ] loss : 0.01728 ,       accuracy(train) = 75.210%\n",
      "[1,  200 ] loss : 0.01671 ,       accuracy(train) = 80.090%\n",
      "[1,  300 ] loss : 0.01629 ,       accuracy(train) = 84.013%\n",
      "[1,  400 ] loss : 0.01605 ,       accuracy(train) = 86.297%\n",
      "[1,  500 ] loss : 0.01589 ,       accuracy(train) = 87.728%\n",
      "[1,  600 ] loss : 0.01578 ,       accuracy(train) = 88.785%\n",
      "accuracy(test) = 0.951%\n",
      "[2,  100 ] loss : 0.01511 ,       accuracy(train) = 95.210%\n",
      "[2,  200 ] loss : 0.01510 ,       accuracy(train) = 95.230%\n",
      "[2,  300 ] loss : 0.01509 ,       accuracy(train) = 95.307%\n",
      "[2,  400 ] loss : 0.01508 ,       accuracy(train) = 95.365%\n",
      "[2,  500 ] loss : 0.01509 ,       accuracy(train) = 95.356%\n",
      "[2,  600 ] loss : 0.01508 ,       accuracy(train) = 95.437%\n",
      "accuracy(test) = 0.965%\n",
      "[3,  100 ] loss : 0.01495 ,       accuracy(train) = 96.570%\n",
      "[3,  200 ] loss : 0.01497 ,       accuracy(train) = 96.320%\n",
      "[3,  300 ] loss : 0.01497 ,       accuracy(train) = 96.367%\n",
      "[3,  400 ] loss : 0.01498 ,       accuracy(train) = 96.323%\n",
      "[3,  500 ] loss : 0.01498 ,       accuracy(train) = 96.300%\n",
      "[3,  600 ] loss : 0.01498 ,       accuracy(train) = 96.335%\n",
      "accuracy(test) = 0.965%\n",
      "[4,  100 ] loss : 0.01493 ,       accuracy(train) = 96.840%\n",
      "[4,  200 ] loss : 0.01494 ,       accuracy(train) = 96.785%\n",
      "[4,  300 ] loss : 0.01493 ,       accuracy(train) = 96.800%\n",
      "[4,  400 ] loss : 0.01494 ,       accuracy(train) = 96.737%\n",
      "[4,  500 ] loss : 0.01494 ,       accuracy(train) = 96.742%\n",
      "[4,  600 ] loss : 0.01494 ,       accuracy(train) = 96.757%\n",
      "accuracy(test) = 0.968%\n",
      "[5,  100 ] loss : 0.01490 ,       accuracy(train) = 97.130%\n",
      "[5,  200 ] loss : 0.01491 ,       accuracy(train) = 96.985%\n",
      "[5,  300 ] loss : 0.01491 ,       accuracy(train) = 96.997%\n",
      "[5,  400 ] loss : 0.01491 ,       accuracy(train) = 97.013%\n",
      "[5,  500 ] loss : 0.01491 ,       accuracy(train) = 96.958%\n",
      "[5,  600 ] loss : 0.01491 ,       accuracy(train) = 96.985%\n",
      "accuracy(test) = 0.967%\n"
     ]
    }
   ],
   "source": [
    "# Net Workインスタンスの作成．画像のShapeだけ付与\n",
    "net = MyNet(28*28) \n",
    "criterion = nn.CrossEntropyLoss() # cross entropyを基準に用いる\n",
    "optimizer = torch.optim.Adam(net.parameters(), lr=.001)#learning ratio (StepSize):変化量\n",
    "\n",
    "epochs = 5 # 繰り返し回数\n",
    "\n",
    "for epoch in range(epochs):\n",
    "  # 代入するための変数を定義\n",
    "  running_loss = 0.0\n",
    "  accuracy_train = 0.0\n",
    "  total_num = 0 \n",
    "  for i,(inputs,labels) in enumerate(train_loader,0):\n",
    "    optimizer.zero_grad() # Optimizerの保持する勾配をゼロにする．\n",
    "    # 型変換\n",
    "    inputs = torch.reshape(inputs,shape=(inputs.shape[0], 28*28 ))\n",
    "    # 実際にクラスに代入\n",
    "    outputs = net(inputs)\n",
    "    # ミニバッチ内の損失を求める\n",
    "    loss = criterion(outputs,labels)\n",
    "    loss.backward()#勾配の逆伝搬→計算した微分係数の記録\n",
    "    optimizer.step()#勾配情報をもとにパラメータ更新(学習)\n",
    "\n",
    "    running_loss += loss.item() # ルイ背の損失関数の値を保持（Optimizerは毎回リセットされるため）\n",
    "    # この一連の処理は不明\n",
    "    with torch.no_grad():\n",
    "      _,predicted_labels = torch.max(outputs.data,dim=1)#最大確率となるラベルの検出（正解ラベルを抽出）→確率から導出\n",
    "      accuracy_train += torch.sum(predicted_labels == labels).item()# 精度の計算\n",
    "      total_num += labels.shape[0]\n",
    "    # 途中経過の出力\n",
    "    if i % 100 == 99:\n",
    "      print(f\"[{epoch + 1},{i+1:5d} ] loss : {running_loss/total_num:.5f} , \\\n",
    "      accuracy(train) = {accuracy_train/total_num*100:.3f}%\")\n",
    "# テスト用データでの精度計算\n",
    "  total_num = 0\n",
    "  accuracy_test = .0\n",
    "  for i,(inputs,labels) in enumerate(test_loader,0):\n",
    "    # 精度計算\n",
    "    with torch.no_grad():\n",
    "      inputs = torch.reshape(inputs,shape=(inputs.shape[0],28*28))#最大確率となるラベルの検出（正解ラベルを抽出）→確率から導出\n",
    "      outputs = net(inputs)\n",
    "      _,predicted_labels = torch.max(outputs.data,dim=1)\n",
    "      accuracy_test += torch.sum(predicted_labels == labels).item()\n",
    "      total_num += labels.shape[0]\n",
    "\n",
    "  print(f\"accuracy(test) = {accuracy_test/total_num:.3f}%\")\n",
    "      \n",
    "\n"
   ]
  },
  {
   "cell_type": "code",
   "execution_count": 5,
   "metadata": {
    "colab": {
     "base_uri": "https://localhost:8080/",
     "height": 1000
    },
    "id": "uLkEVDBCimxw",
    "outputId": "7ef81027-c0a4-4ab0-c66b-8f32c2f46a22",
    "tags": []
   },
   "outputs": [
    {
     "name": "stderr",
     "output_type": "stream",
     "text": [
      "/opt/conda/lib/python3.10/site-packages/torch/nn/modules/module.py:1518: UserWarning: Implicit dimension choice for softmax has been deprecated. Change the call to include dim=X as an argument.\n",
      "  return self._call_impl(*args, **kwargs)\n",
      "<ipython-input-5-c102561132fc>:14: UserWarning: torch.range is deprecated and will be removed in a future release because its behavior is inconsistent with Python's range builtin. Instead, use torch.arange, which produces values in [start, end).\n",
      "  indice_miss_classfication = torch.range(0,pred_labels.shape[0]-1,dtype=torch.int32)[pred_labels != true_labels]\n"
     ]
    },
    {
     "data": {
      "image/png": "[encoded data removed]",
      "text/plain": [
       "<Figure size 432x288 with 1 Axes>"
      ]
     },
     "metadata": {
      "needs_background": "light"
     },
     "output_type": "display_data"
    },
    {
     "name": "stdout",
     "output_type": "stream",
     "text": [
      "true label = 9,predicted label = 8\n"
     ]
    },
    {
     "data": {
      "image/png": "[encoded data removed]",
      "text/plain": [
       "<Figure size 432x288 with 1 Axes>"
      ]
     },
     "metadata": {
      "needs_background": "light"
     },
     "output_type": "display_data"
    },
    {
     "name": "stdout",
     "output_type": "stream",
     "text": [
      "true label = 2,predicted label = 7\n"
     ]
    },
    {
     "data": {
      "image/png": "[encoded data removed]",
      "text/plain": [
       "<Figure size 432x288 with 1 Axes>"
      ]
     },
     "metadata": {
      "needs_background": "light"
     },
     "output_type": "display_data"
    },
    {
     "name": "stdout",
     "output_type": "stream",
     "text": [
      "true label = 9,predicted label = 7\n"
     ]
    },
    {
     "data": {
      "image/png": "[encoded data removed]",
      "text/plain": [
       "<Figure size 432x288 with 1 Axes>"
      ]
     },
     "metadata": {
      "needs_background": "light"
     },
     "output_type": "display_data"
    },
    {
     "name": "stdout",
     "output_type": "stream",
     "text": [
      "true label = 2,predicted label = 8\n"
     ]
    },
    {
     "data": {
      "image/png": "[encoded data removed]",
      "text/plain": [
       "<Figure size 432x288 with 1 Axes>"
      ]
     },
     "metadata": {
      "needs_background": "light"
     },
     "output_type": "display_data"
    },
    {
     "name": "stdout",
     "output_type": "stream",
     "text": [
      "true label = 8,predicted label = 4\n"
     ]
    },
    {
     "data": {
      "image/png": "[encoded data removed]",
      "text/plain": [
       "<Figure size 432x288 with 1 Axes>"
      ]
     },
     "metadata": {
      "needs_background": "light"
     },
     "output_type": "display_data"
    },
    {
     "name": "stdout",
     "output_type": "stream",
     "text": [
      "true label = 5,predicted label = 0\n"
     ]
    },
    {
     "data": {
      "image/png": "[encoded data removed]",
      "text/plain": [
       "<Figure size 432x288 with 1 Axes>"
      ]
     },
     "metadata": {
      "needs_background": "light"
     },
     "output_type": "display_data"
    },
    {
     "name": "stdout",
     "output_type": "stream",
     "text": [
      "true label = 9,predicted label = 4\n"
     ]
    },
    {
     "data": {
      "image/png": "[encoded data removed]",
      "text/plain": [
       "<Figure size 432x288 with 1 Axes>"
      ]
     },
     "metadata": {
      "needs_background": "light"
     },
     "output_type": "display_data"
    },
    {
     "name": "stdout",
     "output_type": "stream",
     "text": [
      "true label = 5,predicted label = 3\n"
     ]
    },
    {
     "data": {
      "image/png": "[encoded data removed]",
      "text/plain": [
       "<Figure size 432x288 with 1 Axes>"
      ]
     },
     "metadata": {
      "needs_background": "light"
     },
     "output_type": "display_data"
    },
    {
     "name": "stdout",
     "output_type": "stream",
     "text": [
      "true label = 7,predicted label = 1\n"
     ]
    },
    {
     "data": {
      "image/png": "[encoded data removed]",
      "text/plain": [
       "<Figure size 432x288 with 1 Axes>"
      ]
     },
     "metadata": {
      "needs_background": "light"
     },
     "output_type": "display_data"
    },
    {
     "name": "stdout",
     "output_type": "stream",
     "text": [
      "true label = 2,predicted label = 8\n"
     ]
    }
   ],
   "source": [
    "import matplotlib.pyplot as plt\n",
    "pred_labels = torch.Tensor([])\n",
    "true_labels = torch.Tensor([])\n",
    "test_images = torch.Tensor([])\n",
    "for i,(inputs,labels) in enumerate(test_loader,0):\n",
    "  with torch.no_grad():\n",
    "    test_images = torch.cat((test_images,inputs),dim=0)#ListでいうAppend処理？\n",
    "    inputs = torch.reshape(inputs,shape=(inputs.shape[0],28*28))#型変換\n",
    "    outputs = net(inputs)#出力の取得\n",
    "    _,predicted_labels = torch.max(outputs.data,dim=1)#確率の取得\n",
    "    pred_labels = torch.cat((pred_labels,predicted_labels),dim=0)#正解ラベル／予測ラベルの取得\n",
    "    true_labels = torch.cat((true_labels,labels),dim=0)#ListでいうAppend処理？記録\n",
    "# 失敗したやつだけ表示\n",
    "indice_miss_classfication = torch.range(0,pred_labels.shape[0]-1,dtype=torch.int32)[pred_labels != true_labels]\n",
    "\n",
    "\n",
    "for i in indice_miss_classfication[:10]:\n",
    "  plt.imshow(test_images[i,0,:,:].numpy(),cmap=\"gray\")\n",
    "  plt.show()\n",
    "  print(f\"true label = {int(true_labels[i])},predicted label = {int(pred_labels[i])}\")"
   ]
  },
  {
   "cell_type": "code",
   "execution_count": 6,
   "metadata": {
    "colab": {
     "base_uri": "https://localhost:8080/",
     "height": 1000
    },
    "id": "SVr0f0AC35ke",
    "outputId": "1df964b7-f3d9-4812-c241-cd5c21063705",
    "tags": []
   },
   "outputs": [
    {
     "name": "stderr",
     "output_type": "stream",
     "text": [
      "<ipython-input-6-6ad03bcb7f51>:1: UserWarning: torch.range is deprecated and will be removed in a future release because its behavior is inconsistent with Python's range builtin. Instead, use torch.arange, which produces values in [start, end).\n",
      "  indice_true_classfication = torch.range(0,pred_labels.shape[0]-1,dtype=torch.int32)[pred_labels == true_labels]\n"
     ]
    },
    {
     "data": {
      "image/png": "[encoded data removed]",
      "text/plain": [
       "<Figure size 432x288 with 1 Axes>"
      ]
     },
     "metadata": {
      "needs_background": "light"
     },
     "output_type": "display_data"
    },
    {
     "name": "stdout",
     "output_type": "stream",
     "text": [
      "true label = 5,predicted label = 5\n"
     ]
    },
    {
     "data": {
      "image/png": "[encoded data removed]",
      "text/plain": [
       "<Figure size 432x288 with 1 Axes>"
      ]
     },
     "metadata": {
      "needs_background": "light"
     },
     "output_type": "display_data"
    },
    {
     "name": "stdout",
     "output_type": "stream",
     "text": [
      "true label = 9,predicted label = 9\n"
     ]
    },
    {
     "data": {
      "image/png": "[encoded data removed]",
      "text/plain": [
       "<Figure size 432x288 with 1 Axes>"
      ]
     },
     "metadata": {
      "needs_background": "light"
     },
     "output_type": "display_data"
    },
    {
     "name": "stdout",
     "output_type": "stream",
     "text": [
      "true label = 6,predicted label = 6\n"
     ]
    },
    {
     "data": {
      "image/png": "[encoded data removed]",
      "text/plain": [
       "<Figure size 432x288 with 1 Axes>"
      ]
     },
     "metadata": {
      "needs_background": "light"
     },
     "output_type": "display_data"
    },
    {
     "name": "stdout",
     "output_type": "stream",
     "text": [
      "true label = 0,predicted label = 0\n"
     ]
    },
    {
     "data": {
      "image/png": "[encoded data removed]",
      "text/plain": [
       "<Figure size 432x288 with 1 Axes>"
      ]
     },
     "metadata": {
      "needs_background": "light"
     },
     "output_type": "display_data"
    },
    {
     "name": "stdout",
     "output_type": "stream",
     "text": [
      "true label = 6,predicted label = 6\n"
     ]
    },
    {
     "data": {
      "image/png": "[encoded data removed]",
      "text/plain": [
       "<Figure size 432x288 with 1 Axes>"
      ]
     },
     "metadata": {
      "needs_background": "light"
     },
     "output_type": "display_data"
    },
    {
     "name": "stdout",
     "output_type": "stream",
     "text": [
      "true label = 5,predicted label = 5\n"
     ]
    },
    {
     "data": {
      "image/png": "[encoded data removed]",
      "text/plain": [
       "<Figure size 432x288 with 1 Axes>"
      ]
     },
     "metadata": {
      "needs_background": "light"
     },
     "output_type": "display_data"
    },
    {
     "name": "stdout",
     "output_type": "stream",
     "text": [
      "true label = 9,predicted label = 9\n"
     ]
    },
    {
     "data": {
      "image/png": "[encoded data removed]",
      "text/plain": [
       "<Figure size 432x288 with 1 Axes>"
      ]
     },
     "metadata": {
      "needs_background": "light"
     },
     "output_type": "display_data"
    },
    {
     "name": "stdout",
     "output_type": "stream",
     "text": [
      "true label = 0,predicted label = 0\n"
     ]
    },
    {
     "data": {
      "image/png": "[encoded data removed]",
      "text/plain": [
       "<Figure size 432x288 with 1 Axes>"
      ]
     },
     "metadata": {
      "needs_background": "light"
     },
     "output_type": "display_data"
    },
    {
     "name": "stdout",
     "output_type": "stream",
     "text": [
      "true label = 0,predicted label = 0\n"
     ]
    },
    {
     "data": {
      "image/png": "[encoded data removed]",
      "text/plain": [
       "<Figure size 432x288 with 1 Axes>"
      ]
     },
     "metadata": {
      "needs_background": "light"
     },
     "output_type": "display_data"
    },
    {
     "name": "stdout",
     "output_type": "stream",
     "text": [
      "true label = 7,predicted label = 7\n"
     ]
    }
   ],
   "source": [
    "indice_true_classfication = torch.range(0,pred_labels.shape[0]-1,dtype=torch.int32)[pred_labels == true_labels]\n",
    "\n",
    "\n",
    "for i in indice_true_classfication[:10]:\n",
    "  plt.imshow(test_images[i,0,:,:].numpy(),cmap=\"gray\")\n",
    "  plt.show()\n",
    "  print(f\"true label = {int(true_labels[i])},predicted label = {int(pred_labels[i])}\")"
   ]
  },
  {
   "cell_type": "code",
   "execution_count": null,
   "metadata": {
    "id": "l4ubQDhGMLfH"
   },
   "outputs": [],
   "source": []
  }
 ],
 "metadata": {
  "accelerator": "GPU",
  "colab": {
   "provenance": []
  },
  "kernelspec": {
   "display_name": "Python 3",
   "language": "python",
   "name": "python3"
  },
  "language_info": {
   "codemirror_mode": {
    "name": "ipython",
    "version": 3
   },
   "file_extension": ".py",
   "mimetype": "text/x-python",
   "name": "python",
   "nbconvert_exporter": "python",
   "pygments_lexer": "ipython3",
   "version": "3.10.13"
  }
 },
 "nbformat": 4,
 "nbformat_minor": 4
}
