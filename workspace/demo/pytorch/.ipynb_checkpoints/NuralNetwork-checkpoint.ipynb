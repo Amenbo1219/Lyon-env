{
  "nbformat": 4,
  "nbformat_minor": 0,
  "metadata": {
    "colab": {
      "provenance": []
    },
    "kernelspec": {
      "name": "python3",
      "display_name": "Python 3"
    },
    "language_info": {
      "name": "python"
    },
    "accelerator": "GPU"
  },
  "cells": [
    {
      "cell_type": "code",
      "execution_count": null,
      "metadata": {
        "colab": {
          "base_uri": "https://localhost:8080/"
        },
        "id": "z_SpQwSoqjhD",
        "outputId": "46794782-267f-48ef-b901-4036b6a98b77"
      },
      "outputs": [
        {
          "output_type": "stream",
          "name": "stdout",
          "text": [
            "Mounted at /content/drive\n"
          ]
        }
      ],
      "source": [
        "from google.colab import drive\n",
        "drive.mount('/content/drive')"
      ]
    },
    {
      "cell_type": "code",
      "source": [
        "%cd /content/drive/MyDrive/創生課題/5/\n",
        "%ls"
      ],
      "metadata": {
        "colab": {
          "base_uri": "https://localhost:8080/"
        },
        "id": "I551-RQOqqIH",
        "outputId": "558d3a17-c002-4b7b-d385-6773514080d9"
      },
      "execution_count": null,
      "outputs": [
        {
          "output_type": "stream",
          "name": "stdout",
          "text": [
            "/content/drive/MyDrive/創生課題/5\n",
            "\u001b[0m\u001b[01;34mdata\u001b[0m/  Kadai0501.ipynb  Kadai0502.ipynb\n"
          ]
        }
      ]
    },
    {
      "cell_type": "code",
      "source": [
        "import torch\n",
        "from torchvision import datasets,transforms"
      ],
      "metadata": {
        "id": "zXKT5mNoq6hE"
      },
      "execution_count": null,
      "outputs": []
    },
    {
      "cell_type": "code",
      "source": [
        "transform = transforms.Compose([\n",
        "    transforms.ToTensor()\n",
        "])\n",
        "\n",
        "train_dataset = datasets.MNIST(\n",
        "    './data',\n",
        "    train = True,\n",
        "    download=True,#自動ダウンロード\n",
        "    transform = transform#テンソルへの変換\n",
        ")\n",
        "test_dataset = datasets.MNIST(\n",
        "    \"./data\",\n",
        "    train=False,\n",
        "    download=True,\n",
        "    transform=transform\n",
        ")\n",
        "# データの読み込み設定．Batch_sizeはここで確定\n",
        "train_loader = torch.utils.data.DataLoader(\n",
        "    train_dataset,\n",
        "    #1epochでのバッチサイズ\n",
        "    batch_size=100 ,\n",
        "    shuffle=True)\n",
        "test_loader = torch.utils.data.DataLoader(\n",
        "    test_dataset,\n",
        "    batch_size=100,\n",
        "    shuffle=True)\n",
        "for i,(inputs,labels) in enumerate(train_loader,0):\n",
        "  if i ==0:\n",
        "    print(f\"inputs shape minibatch = {inputs.shape}, labels shape = {labels.shape}\")"
      ],
      "metadata": {
        "colab": {
          "base_uri": "https://localhost:8080/"
        },
        "id": "IErhRB3ZrkPp",
        "outputId": "965f5ce4-7325-4982-d827-7ecfac6abc1b"
      },
      "execution_count": null,
      "outputs": [
        {
          "output_type": "stream",
          "name": "stdout",
          "text": [
            "inputs shape minibatch = torch.Size([100, 1, 28, 28]), labels shape = torch.Size([100])\n"
          ]
        }
      ]
    },
    {
      "cell_type": "code",
      "source": [
        "import torch\n",
        "import torch.nn as nn\n",
        "\n",
        "class MyNet(nn.Module):\n",
        "  # InputからOutputまでのモデルの定義\n",
        "  def __init__(self,input_shape):\n",
        "    super(MyNet,self).__init__()# ルール\n",
        "    # モデルの定義\n",
        "    self.layers = nn.Sequential(\n",
        "        nn.Linear(input_shape,1024),\n",
        "        nn.ReLU(),\n",
        "        nn.Linear(1024,1024),\n",
        "        nn.ReLU(),\n",
        "        nn.Linear(1024,10),#出力層\n",
        "        nn.Softmax()\n",
        "        )\n",
        "  def forward(self,x):\n",
        "    # モデルを使ってメンバー変数内にxを入れて返す\n",
        "    return self.layers(x)"
      ],
      "metadata": {
        "id": "MgqRXEUys27z"
      },
      "execution_count": null,
      "outputs": []
    },
    {
      "cell_type": "code",
      "source": [
        "# Net Workインスタンスの作成．画像のShapeだけ付与\n",
        "net = MyNet(28*28) \n",
        "criterion = nn.CrossEntropyLoss() # cross entropyを基準に用いる\n",
        "optimizer = torch.optim.Adam(net.parameters(), lr=.001)#learning ratio (StepSize):変化量\n",
        "\n",
        "epochs = 5 # 繰り返し回数\n",
        "\n",
        "for epoch in range(epochs):\n",
        "  # 代入するための変数を定義\n",
        "  running_loss = 0.0\n",
        "  accuracy_train = 0.0\n",
        "  total_num = 0 \n",
        "  for i,(inputs,labels) in enumerate(train_loader,0):\n",
        "    optimizer.zero_grad() # Optimizerの保持する勾配をゼロにする．\n",
        "    # 型変換\n",
        "    inputs = torch.reshape(inputs,shape=(inputs.shape[0], 28*28 ))\n",
        "    # 実際にクラスに代入\n",
        "    outputs = net(inputs)\n",
        "    # ミニバッチ内の損失を求める\n",
        "    loss = criterion(outputs,labels)\n",
        "    loss.backward()#勾配の逆伝搬→計算した微分係数の記録\n",
        "    optimizer.step()#勾配情報をもとにパラメータ更新(学習)\n",
        "\n",
        "    running_loss += loss.item() # ルイ背の損失関数の値を保持（Optimizerは毎回リセットされるため）\n",
        "    # この一連の処理は不明\n",
        "    with torch.no_grad():\n",
        "      _,predicted_labels = torch.max(outputs.data,dim=1)#最大確率となるラベルの検出（正解ラベルを抽出）→確率から導出\n",
        "      accuracy_train += torch.sum(predicted_labels == labels).item()# 精度の計算\n",
        "      total_num += labels.shape[0]\n",
        "    # 途中経過の出力\n",
        "    if i % 100 == 99:\n",
        "      print(f\"[{epoch + 1},{i+1:5d} ] loss : {running_loss/total_num:.5f} , \\\n",
        "      accuracy(train) = {accuracy_train/total_num*100:.3f}%\")\n",
        "# テスト用データでの精度計算\n",
        "  total_num = 0\n",
        "  accuracy_test = .0\n",
        "  for i,(inputs,labels) in enumerate(test_loader,0):\n",
        "    # 精度計算\n",
        "    with torch.no_grad():\n",
        "      inputs = torch.reshape(inputs,shape=(inputs.shape[0],28*28))#最大確率となるラベルの検出（正解ラベルを抽出）→確率から導出\n",
        "      outputs = net(inputs)\n",
        "      _,predicted_labels = torch.max(outputs.data,dim=1)\n",
        "      accuracy_test += torch.sum(predicted_labels == labels).item()\n",
        "      total_num += labels.shape[0]\n",
        "\n",
        "  print(f\"accuracy(test) = {accuracy_test/total_num:.3f}%\")\n",
        "      \n",
        "\n"
      ],
      "metadata": {
        "colab": {
          "base_uri": "https://localhost:8080/"
        },
        "id": "nITy31OJt99Q",
        "outputId": "957d647f-ff9c-46e2-9766-84154f89d906"
      },
      "execution_count": null,
      "outputs": [
        {
          "output_type": "stream",
          "name": "stderr",
          "text": [
            "/usr/local/lib/python3.7/dist-packages/torch/nn/modules/container.py:139: UserWarning: Implicit dimension choice for softmax has been deprecated. Change the call to include dim=X as an argument.\n",
            "  input = module(input)\n"
          ]
        },
        {
          "output_type": "stream",
          "name": "stdout",
          "text": [
            "[1,  100 ] loss : 0.01741 ,       accuracy(train) = 73.670%\n",
            "[1,  200 ] loss : 0.01657 ,       accuracy(train) = 81.465%\n",
            "[1,  300 ] loss : 0.01619 ,       accuracy(train) = 84.990%\n",
            "[1,  400 ] loss : 0.01596 ,       accuracy(train) = 87.032%\n",
            "[1,  500 ] loss : 0.01582 ,       accuracy(train) = 88.406%\n",
            "[1,  600 ] loss : 0.01571 ,       accuracy(train) = 89.457%\n",
            "accuracy(test) = 0.954%\n",
            "[2,  100 ] loss : 0.01513 ,       accuracy(train) = 94.900%\n",
            "[2,  200 ] loss : 0.01514 ,       accuracy(train) = 94.850%\n",
            "[2,  300 ] loss : 0.01514 ,       accuracy(train) = 94.797%\n",
            "[2,  400 ] loss : 0.01511 ,       accuracy(train) = 95.073%\n",
            "[2,  500 ] loss : 0.01510 ,       accuracy(train) = 95.200%\n",
            "[2,  600 ] loss : 0.01509 ,       accuracy(train) = 95.322%\n",
            "accuracy(test) = 0.962%\n",
            "[3,  100 ] loss : 0.01496 ,       accuracy(train) = 96.540%\n",
            "[3,  200 ] loss : 0.01498 ,       accuracy(train) = 96.395%\n",
            "[3,  300 ] loss : 0.01497 ,       accuracy(train) = 96.440%\n",
            "[3,  400 ] loss : 0.01498 ,       accuracy(train) = 96.355%\n",
            "[3,  500 ] loss : 0.01498 ,       accuracy(train) = 96.352%\n",
            "[3,  600 ] loss : 0.01499 ,       accuracy(train) = 96.297%\n",
            "accuracy(test) = 0.963%\n",
            "[4,  100 ] loss : 0.01496 ,       accuracy(train) = 96.480%\n",
            "[4,  200 ] loss : 0.01497 ,       accuracy(train) = 96.410%\n",
            "[4,  300 ] loss : 0.01496 ,       accuracy(train) = 96.507%\n",
            "[4,  400 ] loss : 0.01494 ,       accuracy(train) = 96.667%\n",
            "[4,  500 ] loss : 0.01494 ,       accuracy(train) = 96.742%\n",
            "[4,  600 ] loss : 0.01494 ,       accuracy(train) = 96.735%\n",
            "accuracy(test) = 0.962%\n",
            "[5,  100 ] loss : 0.01495 ,       accuracy(train) = 96.590%\n",
            "[5,  200 ] loss : 0.01493 ,       accuracy(train) = 96.835%\n",
            "[5,  300 ] loss : 0.01493 ,       accuracy(train) = 96.807%\n",
            "[5,  400 ] loss : 0.01493 ,       accuracy(train) = 96.815%\n",
            "[5,  500 ] loss : 0.01494 ,       accuracy(train) = 96.754%\n",
            "[5,  600 ] loss : 0.01493 ,       accuracy(train) = 96.778%\n",
            "accuracy(test) = 0.963%\n"
          ]
        }
      ]
    },
    {
      "cell_type": "code",
      "source": [
        "import matplotlib.pyplot as plt\n",
        "pred_labels = torch.Tensor([])\n",
        "true_labels = torch.Tensor([])\n",
        "test_images = torch.Tensor([])\n",
        "for i,(inputs,labels) in enumerate(test_loader,0):\n",
        "  with torch.no_grad():\n",
        "    test_images = torch.cat((test_images,inputs),dim=0)#ListでいうAppend処理？\n",
        "    inputs = torch.reshape(inputs,shape=(inputs.shape[0],28*28))#型変換\n",
        "    outputs = net(inputs)#出力の取得\n",
        "    _,predicted_labels = torch.max(outputs.data,dim=1)#確率の取得\n",
        "    pred_labels = torch.cat((pred_labels,predicted_labels),dim=0)#正解ラベル／予測ラベルの取得\n",
        "    true_labels = torch.cat((true_labels,labels),dim=0)#ListでいうAppend処理？記録\n",
        "# 失敗したやつだけ表示\n",
        "indice_miss_classfication = torch.range(0,pred_labels.shape[0]-1,dtype=torch.int32)[pred_labels != true_labels]\n",
        "\n",
        "\n",
        "for i in indice_miss_classfication[:10]:\n",
        "  plt.imshow(test_images[i,0,:,:].numpy(),cmap=\"gray\")\n",
        "  plt.show()\n",
        "  print(f\"true label = {int(true_labels[i])},predicted label = {int(pred_labels[i])}\")"
      ],
      "metadata": {
        "colab": {
          "base_uri": "https://localhost:8080/",
          "height": 1000
        },
        "id": "uLkEVDBCimxw",
        "outputId": "7ef81027-c0a4-4ab0-c66b-8f32c2f46a22"
      },
      "execution_count": null,
      "outputs": [
        {
          "output_type": "stream",
          "name": "stderr",
          "text": [
            "/usr/local/lib/python3.7/dist-packages/ipykernel_launcher.py:14: UserWarning: torch.range is deprecated and will be removed in a future release because its behavior is inconsistent with Python's range builtin. Instead, use torch.arange, which produces values in [start, end).\n",
            "  \n"
          ]
        },
        {
          "output_type": "display_data",
          "data": {
            "text/plain": [
              "<Figure size 432x288 with 1 Axes>"
            ],
            "image/png": "[encoded data removed]"
          },
          "metadata": {
            "needs_background": "light"
          }
        },
        {
          "output_type": "stream",
          "name": "stdout",
          "text": [
            "true label = 9,predicted label = 0\n"
          ]
        },
        {
          "output_type": "display_data",
          "data": {
            "text/plain": [
              "<Figure size 432x288 with 1 Axes>"
            ],
            "image/png": "[encoded data removed]"
          },
          "metadata": {
            "needs_background": "light"
          }
        },
        {
          "output_type": "stream",
          "name": "stdout",
          "text": [
            "true label = 8,predicted label = 5\n"
          ]
        },
        {
          "output_type": "display_data",
          "data": {
            "text/plain": [
              "<Figure size 432x288 with 1 Axes>"
            ],
            "image/png": "[encoded data removed]"
          },
          "metadata": {
            "needs_background": "light"
          }
        },
        {
          "output_type": "stream",
          "name": "stdout",
          "text": [
            "true label = 4,predicted label = 9\n"
          ]
        },
        {
          "output_type": "display_data",
          "data": {
            "text/plain": [
              "<Figure size 432x288 with 1 Axes>"
            ],
            "image/png": "[encoded data removed]"
          },
          "metadata": {
            "needs_background": "light"
          }
        },
        {
          "output_type": "stream",
          "name": "stdout",
          "text": [
            "true label = 8,predicted label = 7\n"
          ]
        },
        {
          "output_type": "display_data",
          "data": {
            "text/plain": [
              "<Figure size 432x288 with 1 Axes>"
            ],
            "image/png": "[encoded data removed]"
          },
          "metadata": {
            "needs_background": "light"
          }
        },
        {
          "output_type": "stream",
          "name": "stdout",
          "text": [
            "true label = 6,predicted label = 1\n"
          ]
        },
        {
          "output_type": "display_data",
          "data": {
            "text/plain": [
              "<Figure size 432x288 with 1 Axes>"
            ],
            "image/png": "[encoded data removed]"
          },
          "metadata": {
            "needs_background": "light"
          }
        },
        {
          "output_type": "stream",
          "name": "stdout",
          "text": [
            "true label = 3,predicted label = 2\n"
          ]
        },
        {
          "output_type": "display_data",
          "data": {
            "text/plain": [
              "<Figure size 432x288 with 1 Axes>"
            ],
            "image/png": "[encoded data removed]"
          },
          "metadata": {
            "needs_background": "light"
          }
        },
        {
          "output_type": "stream",
          "name": "stdout",
          "text": [
            "true label = 3,predicted label = 7\n"
          ]
        },
        {
          "output_type": "display_data",
          "data": {
            "text/plain": [
              "<Figure size 432x288 with 1 Axes>"
            ],
            "image/png": "[encoded data removed]"
          },
          "metadata": {
            "needs_background": "light"
          }
        },
        {
          "output_type": "stream",
          "name": "stdout",
          "text": [
            "true label = 8,predicted label = 5\n"
          ]
        },
        {
          "output_type": "display_data",
          "data": {
            "text/plain": [
              "<Figure size 432x288 with 1 Axes>"
            ],
            "image/png": "[encoded data removed]"
          },
          "metadata": {
            "needs_background": "light"
          }
        },
        {
          "output_type": "stream",
          "name": "stdout",
          "text": [
            "true label = 4,predicted label = 0\n"
          ]
        },
        {
          "output_type": "display_data",
          "data": {
            "text/plain": [
              "<Figure size 432x288 with 1 Axes>"
            ],
            "image/png": "[encoded data removed]"
          },
          "metadata": {
            "needs_background": "light"
          }
        },
        {
          "output_type": "stream",
          "name": "stdout",
          "text": [
            "true label = 9,predicted label = 0\n"
          ]
        }
      ]
    },
    {
      "cell_type": "code",
      "source": [
        "indice_true_classfication = torch.range(0,pred_labels.shape[0]-1,dtype=torch.int32)[pred_labels == true_labels]\n",
        "\n",
        "\n",
        "for i in indice_true_classfication[:10]:\n",
        "  plt.imshow(test_images[i,0,:,:].numpy(),cmap=\"gray\")\n",
        "  plt.show()\n",
        "  print(f\"true label = {int(true_labels[i])},predicted label = {int(pred_labels[i])}\")"
      ],
      "metadata": {
        "id": "SVr0f0AC35ke",
        "colab": {
          "base_uri": "https://localhost:8080/",
          "height": 1000
        },
        "outputId": "1df964b7-f3d9-4812-c241-cd5c21063705"
      },
      "execution_count": null,
      "outputs": [
        {
          "output_type": "stream",
          "name": "stderr",
          "text": [
            "/usr/local/lib/python3.7/dist-packages/ipykernel_launcher.py:1: UserWarning: torch.range is deprecated and will be removed in a future release because its behavior is inconsistent with Python's range builtin. Instead, use torch.arange, which produces values in [start, end).\n",
            "  \"\"\"Entry point for launching an IPython kernel.\n"
          ]
        },
        {
          "output_type": "display_data",
          "data": {
            "text/plain": [
              "<Figure size 432x288 with 1 Axes>"
            ],
            "image/png": "[encoded data removed]"
          },
          "metadata": {
            "needs_background": "light"
          }
        },
        {
          "output_type": "stream",
          "name": "stdout",
          "text": [
            "true label = 1,predicted label = 1\n"
          ]
        },
        {
          "output_type": "display_data",
          "data": {
            "text/plain": [
              "<Figure size 432x288 with 1 Axes>"
            ],
            "image/png": "[encoded data removed]"
          },
          "metadata": {
            "needs_background": "light"
          }
        },
        {
          "output_type": "stream",
          "name": "stdout",
          "text": [
            "true label = 8,predicted label = 8\n"
          ]
        },
        {
          "output_type": "display_data",
          "data": {
            "text/plain": [
              "<Figure size 432x288 with 1 Axes>"
            ],
            "image/png": "[encoded data removed]"
          },
          "metadata": {
            "needs_background": "light"
          }
        },
        {
          "output_type": "stream",
          "name": "stdout",
          "text": [
            "true label = 6,predicted label = 6\n"
          ]
        },
        {
          "output_type": "display_data",
          "data": {
            "text/plain": [
              "<Figure size 432x288 with 1 Axes>"
            ],
            "image/png": "[encoded data removed]"
          },
          "metadata": {
            "needs_background": "light"
          }
        },
        {
          "output_type": "stream",
          "name": "stdout",
          "text": [
            "true label = 3,predicted label = 3\n"
          ]
        },
        {
          "output_type": "display_data",
          "data": {
            "text/plain": [
              "<Figure size 432x288 with 1 Axes>"
            ],
            "image/png": "[encoded data removed]"
          },
          "metadata": {
            "needs_background": "light"
          }
        },
        {
          "output_type": "stream",
          "name": "stdout",
          "text": [
            "true label = 2,predicted label = 2\n"
          ]
        },
        {
          "output_type": "display_data",
          "data": {
            "text/plain": [
              "<Figure size 432x288 with 1 Axes>"
            ],
            "image/png": "[encoded data removed]"
          },
          "metadata": {
            "needs_background": "light"
          }
        },
        {
          "output_type": "stream",
          "name": "stdout",
          "text": [
            "true label = 5,predicted label = 5\n"
          ]
        },
        {
          "output_type": "display_data",
          "data": {
            "text/plain": [
              "<Figure size 432x288 with 1 Axes>"
            ],
            "image/png": "[encoded data removed]"
          },
          "metadata": {
            "needs_background": "light"
          }
        },
        {
          "output_type": "stream",
          "name": "stdout",
          "text": [
            "true label = 0,predicted label = 0\n"
          ]
        },
        {
          "output_type": "display_data",
          "data": {
            "text/plain": [
              "<Figure size 432x288 with 1 Axes>"
            ],
            "image/png": "[encoded data removed]"
          },
          "metadata": {
            "needs_background": "light"
          }
        },
        {
          "output_type": "stream",
          "name": "stdout",
          "text": [
            "true label = 0,predicted label = 0\n"
          ]
        },
        {
          "output_type": "display_data",
          "data": {
            "text/plain": [
              "<Figure size 432x288 with 1 Axes>"
            ],
            "image/png": "[encoded data removed]"
          },
          "metadata": {
            "needs_background": "light"
          }
        },
        {
          "output_type": "stream",
          "name": "stdout",
          "text": [
            "true label = 5,predicted label = 5\n"
          ]
        },
        {
          "output_type": "display_data",
          "data": {
            "text/plain": [
              "<Figure size 432x288 with 1 Axes>"
            ],
            "image/png": "[encoded data removed]"
          },
          "metadata": {
            "needs_background": "light"
          }
        },
        {
          "output_type": "stream",
          "name": "stdout",
          "text": [
            "true label = 6,predicted label = 6\n"
          ]
        }
      ]
    },
    {
      "cell_type": "code",
      "source": [],
      "metadata": {
        "id": "l4ubQDhGMLfH"
      },
      "execution_count": null,
      "outputs": []
    }
  ]
}